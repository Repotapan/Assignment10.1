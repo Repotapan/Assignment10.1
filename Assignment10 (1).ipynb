{
 "cells": [
  {
   "cell_type": "markdown",
   "id": "a0abcdc4-304a-437a-bcd7-53bf8a786e15",
   "metadata": {},
   "source": [
    "1)"
   ]
  },
  {
   "cell_type": "code",
   "execution_count": 4,
   "id": "3f0fd9d1-5af8-4c98-9c9b-4639f47223bf",
   "metadata": {},
   "outputs": [],
   "source": [
    "class vehicle:\n",
    "    def __init__(self,name_of_vehicle,max_speed,average_of_vehicle):\n",
    "        self.name_of_vehicle=name_of_vehicle\n",
    "        self.max_speed=max_speed\n",
    "        self.average_of_vehicle=average_of_vehicle"
   ]
  },
  {
   "cell_type": "code",
   "execution_count": 6,
   "id": "7120a8d3-35ef-44b5-af97-dce77c3cf547",
   "metadata": {},
   "outputs": [],
   "source": [
    "t=vehicle(\"enova\",100,300)"
   ]
  },
  {
   "cell_type": "markdown",
   "id": "73a94942-8e78-409c-975d-678e893c72f7",
   "metadata": {},
   "source": [
    "2)"
   ]
  },
  {
   "cell_type": "code",
   "execution_count": null,
   "id": "a370fb9f-5463-4f87-9161-37a5a493caa5",
   "metadata": {},
   "outputs": [],
   "source": [
    "class child_vehicle(vehicle):\n",
    "    def seating_capacity(self,capacity_of_vehicle):\n",
    "        self.capacity_of_vehicle=capacity_of_vehicle\n",
    "        return capacity_of_vehicle"
   ]
  },
  {
   "cell_type": "code",
   "execution_count": 15,
   "id": "2a4e579a-d2e3-4925-bf01-6147b0aed5c3",
   "metadata": {},
   "outputs": [],
   "source": [
    "t1=child_vehicle(\"enova\",100,300)\n"
   ]
  },
  {
   "cell_type": "code",
   "execution_count": 16,
   "id": "7c7675cb-945b-443b-b21b-281a86c8ee8c",
   "metadata": {},
   "outputs": [
    {
     "data": {
      "text/plain": [
       "400"
      ]
     },
     "execution_count": 16,
     "metadata": {},
     "output_type": "execute_result"
    }
   ],
   "source": [
    "t1.seating_capacity(400)"
   ]
  },
  {
   "cell_type": "code",
   "execution_count": 17,
   "id": "82902202-1909-4004-a3a6-630f779c64a0",
   "metadata": {},
   "outputs": [
    {
     "data": {
      "text/plain": [
       "'enova'"
      ]
     },
     "execution_count": 17,
     "metadata": {},
     "output_type": "execute_result"
    }
   ],
   "source": [
    "t1.name_of_vehicle"
   ]
  },
  {
   "cell_type": "markdown",
   "id": "2cf149f6-a567-4934-b1a4-1d5af47bbaf8",
   "metadata": {},
   "source": [
    "3)"
   ]
  },
  {
   "cell_type": "markdown",
   "id": "82885275-249a-41a7-b932-6164e31db4d2",
   "metadata": {},
   "source": [
    "Multiple inheritance is a feature in object-oriented programming where a single class can inherit attributes and methods from multiple parent classes. This allows the child class to inherit the attributes and behaviors of multiple parent classes and provide a way to reuse and combine the code of multiple parent classes in a single child class.\n",
    "\n",
    "Example:"
   ]
  },
  {
   "cell_type": "code",
   "execution_count": 18,
   "id": "9618d8d3-3de2-48c1-9ddd-840f9a9fdb71",
   "metadata": {},
   "outputs": [],
   "source": [
    "class class1:\n",
    "    def test(self):\n",
    "        return \"this is a class1\""
   ]
  },
  {
   "cell_type": "code",
   "execution_count": 19,
   "id": "af37e048-d897-478e-8d0e-d9918391dd93",
   "metadata": {},
   "outputs": [],
   "source": [
    "class class2:\n",
    "    def test1(self):\n",
    "        return \"this is class2\""
   ]
  },
  {
   "cell_type": "code",
   "execution_count": 20,
   "id": "093d0546-6762-4d26-a3a4-a3024736d0fa",
   "metadata": {},
   "outputs": [],
   "source": [
    "class class3(class1,class2):\n",
    "    pass"
   ]
  },
  {
   "cell_type": "code",
   "execution_count": 21,
   "id": "28c13764-7823-4e98-b37a-eff058deb415",
   "metadata": {},
   "outputs": [],
   "source": [
    "obj_class3=class3()"
   ]
  },
  {
   "cell_type": "code",
   "execution_count": 22,
   "id": "83e38d7e-0509-4626-a927-9a36ea3c848f",
   "metadata": {},
   "outputs": [
    {
     "data": {
      "text/plain": [
       "'this is a class1'"
      ]
     },
     "execution_count": 22,
     "metadata": {},
     "output_type": "execute_result"
    }
   ],
   "source": [
    "obj_class3.test()"
   ]
  },
  {
   "cell_type": "code",
   "execution_count": 23,
   "id": "d94fd082-2a8d-441e-8b4c-f4a187b6f324",
   "metadata": {},
   "outputs": [
    {
     "data": {
      "text/plain": [
       "'this is class2'"
      ]
     },
     "execution_count": 23,
     "metadata": {},
     "output_type": "execute_result"
    }
   ],
   "source": [
    "obj_class3.test1()"
   ]
  },
  {
   "cell_type": "markdown",
   "id": "83e4b63a-21f0-4bdf-b05f-b2a275696ff0",
   "metadata": {},
   "source": [
    "4)"
   ]
  },
  {
   "cell_type": "markdown",
   "id": "204f6d66-2fa8-49e4-ae19-3d644345a0fb",
   "metadata": {},
   "source": [
    "setter method can be used to set values to the instance variables.setter method also known as mutator method.\n",
    "Getter method can be used to get values of the instance variables.\n",
    "Getter method also known as accessor method."
   ]
  },
  {
   "cell_type": "code",
   "execution_count": null,
   "id": "64e787b7-318c-4a3e-9a39-426c0422639b",
   "metadata": {},
   "outputs": [],
   "source": [
    "class student:\n",
    "    def setName(self,name):\n",
    "        self.name=name\n",
    "    def getName(self,name):\n",
    "        return self.name\n",
    "    def setMarks(self,marks):\n",
    "        self.marks=marks\n",
    "    def getMarks(self):\n",
    "        return self.marks\n",
    "n=int(input(\"Enter number of students\"))\n",
    "for i in range (n):\n",
    "    s=student()\n",
    "    name=input(\"Enter your name\")\n",
    "    marks=int(input(\"Enter your marks\"))\n",
    "    s.setName(name)\n",
    "    s.setMarks(marks)\n",
    "    print(\"Hi\",s.getName())\n",
    "    print(\"Your marks are:\",s.getMarks())\n",
    "    print()"
   ]
  },
  {
   "cell_type": "markdown",
   "id": "9335a742-f5ab-4659-935b-5faca0861d64",
   "metadata": {},
   "source": [
    "5)"
   ]
  },
  {
   "cell_type": "markdown",
   "id": "dca82820-9da2-43b7-960d-5a14276393b1",
   "metadata": {},
   "source": [
    "Method overriding is a feature in object-oriented programming that allows a subclass to provide a different implementation of a method that is already defined in its superclass. This allows for a more specialized behavior in the subclass that is tailored to its needs, while still inheriting the basic behavior defined in the superclass."
   ]
  },
  {
   "cell_type": "code",
   "execution_count": null,
   "id": "a1267076-56cc-4546-a9df-a27ed4820b6a",
   "metadata": {},
   "outputs": [],
   "source": [
    "class Animal:\n",
    "    def make_sound(self):\n",
    "        print(\"The animal makes a sound\")\n",
    "\n",
    "class Dog(Animal):\n",
    "    def make_sound(self):\n",
    "        print(\"The dog barks\")\n",
    "\n",
    "dog = Dog()\n",
    "dog.make_sound()\n",
    "\n"
   ]
  },
  {
   "cell_type": "code",
   "execution_count": null,
   "id": "06cc8503-4faf-4418-b1e3-cc1c0399c69e",
   "metadata": {},
   "outputs": [],
   "source": []
  }
 ],
 "metadata": {
  "kernelspec": {
   "display_name": "Python 3 (ipykernel)",
   "language": "python",
   "name": "python3"
  },
  "language_info": {
   "codemirror_mode": {
    "name": "ipython",
    "version": 3
   },
   "file_extension": ".py",
   "mimetype": "text/x-python",
   "name": "python",
   "nbconvert_exporter": "python",
   "pygments_lexer": "ipython3",
   "version": "3.10.8"
  }
 },
 "nbformat": 4,
 "nbformat_minor": 5
}
